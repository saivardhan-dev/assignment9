{
  "nbformat": 4,
  "nbformat_minor": 0,
  "metadata": {
    "colab": {
      "provenance": []
    },
    "kernelspec": {
      "name": "python3",
      "display_name": "Python 3"
    },
    "language_info": {
      "name": "python"
    }
  },
  "cells": [
    {
      "cell_type": "code",
      "source": [
        "import pandas as pd\n",
        "from keras.preprocessing.text import Tokenizer\n",
        "from keras.preprocessing.sequence import pad_sequences\n",
        "from keras.models import Sequential\n",
        "from keras.layers import Dense, Embedding, LSTM\n",
        "from sklearn.model_selection import train_test_split\n",
        "from keras.utils import to_categorical\n",
        "import re\n",
        "from sklearn.preprocessing import LabelEncoder\n",
        "\n",
        "# Load the data\n",
        "data = pd.read_csv('/content/Sentiment (3) (1).csv')\n",
        "data = data[['text','sentiment']]\n",
        "\n",
        "# Preprocess the text data\n",
        "data['text'] = data['text'].apply(lambda x: x.lower())\n",
        "data['text'] = data['text'].apply(lambda x: re.sub('[^a-zA-z0-9\\s]', '', x))\n",
        "for idx, row in data.iterrows():\n",
        "    row[0] = row[0].replace('rt', ' ')\n",
        "\n",
        "# Tokenize and pad sequences\n",
        "max_features = 2000\n",
        "tokenizer = Tokenizer(num_words=max_features, split=' ')\n",
        "tokenizer.fit_on_texts(data['text'].values)\n",
        "X = tokenizer.texts_to_sequences(data['text'].values)\n",
        "X = pad_sequences(X)\n",
        "\n",
        "# Define the model architecture\n",
        "embed_dim = 128\n",
        "lstm_out = 196\n",
        "def create_model():\n",
        "    model = Sequential()\n",
        "    model.add(Embedding(max_features, embed_dim, input_length=X.shape[1]))\n",
        "    model.add(LSTM(lstm_out, dropout=0.2, recurrent_dropout=0.2))\n",
        "    model.add(Dense(3, activation='softmax'))\n",
        "    model.compile(loss='categorical_crossentropy', optimizer='adam', metrics=['accuracy'])\n",
        "    return model\n",
        "\n",
        "# Encode the target labels\n",
        "label_encoder = LabelEncoder()\n",
        "integer_encoded = label_encoder.fit_transform(data['sentiment'])\n",
        "y = to_categorical(integer_encoded)\n",
        "\n",
        "# Split the data into training and testing sets\n",
        "X_train, X_test, y_train, y_test = train_test_split(X, y, test_size=0.33, random_state=42)\n",
        "\n",
        "# Train the model\n",
        "batch_size = 32\n",
        "model = create_model()\n",
        "model.fit(X_train, y_train, epochs=1, batch_size=batch_size, verbose=2)\n",
        "\n",
        "# Evaluate the model\n",
        "score, acc = model.evaluate(X_test, y_test, verbose=2, batch_size=batch_size)\n",
        "print(\"Test score:\", score)\n",
        "print(\"Test accuracy:\", acc)\n",
        "\n",
        "# Save the model\n",
        "model.save('sentiment_analysis_model.h5')\n",
        "\n",
        "# Load the saved model\n",
        "from keras.models import load_model\n",
        "loaded_model = load_model('sentiment_analysis_model.h5')\n",
        "\n",
        "# New text data for prediction\n",
        "new_text = \"A lot of good things are happening. We are respected again throughout the world, and that's a great thing.\"\n",
        "new_text = new_text.lower()\n",
        "new_text = re.sub('[^a-zA-z0-9\\s]', '', new_text)\n",
        "new_text_sequence = tokenizer.texts_to_sequences([new_text])\n",
        "new_text_sequence = pad_sequences(new_text_sequence, maxlen=X.shape[1])\n",
        "\n",
        "# Make predictions on new data\n",
        "prediction = loaded_model.predict(new_text_sequence)\n",
        "sentiment_labels = ['negative', 'neutral', 'positive']\n",
        "predicted_sentiment = sentiment_labels[prediction.argmax()]\n",
        "\n",
        "print(\"Predicted sentiment:\", predicted_sentiment)\n"
      ],
      "metadata": {
        "colab": {
          "base_uri": "https://localhost:8080/"
        },
        "id": "AemDCsgSYte1",
        "outputId": "89b45180-00ac-4808-93b1-b44346a441d3"
      },
      "execution_count": null,
      "outputs": [
        {
          "output_type": "stream",
          "name": "stdout",
          "text": [
            "291/291 - 43s - loss: 0.8254 - accuracy: 0.6425 - 43s/epoch - 149ms/step\n",
            "144/144 - 4s - loss: 0.7606 - accuracy: 0.6772 - 4s/epoch - 27ms/step\n",
            "Test score: 0.7606064677238464\n",
            "Test accuracy: 0.677151620388031\n"
          ]
        },
        {
          "output_type": "stream",
          "name": "stderr",
          "text": [
            "/usr/local/lib/python3.10/dist-packages/keras/src/engine/training.py:3103: UserWarning: You are saving your model as an HDF5 file via `model.save()`. This file format is considered legacy. We recommend using instead the native Keras format, e.g. `model.save('my_model.keras')`.\n",
            "  saving_api.save_model(\n"
          ]
        },
        {
          "output_type": "stream",
          "name": "stdout",
          "text": [
            "1/1 [==============================] - 0s 262ms/step\n",
            "Predicted sentiment: negative\n"
          ]
        }
      ]
    }
  ]
}